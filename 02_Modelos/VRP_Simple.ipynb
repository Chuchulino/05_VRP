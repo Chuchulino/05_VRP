{
 "cells": [
  {
   "cell_type": "markdown",
   "metadata": {},
   "source": [
    "\n",
    "## **Problema**\n",
    "\n",
    "\n",
    "El problema de la ruta de vehículos, es un problema de optimización combinatoria y de programación de entero qué pregunta \"¿Cuál es el conjunto óptimo de rutas para una flota de vehículos que debe satisfacer las demandas de un conjunto dado de clientes?\". Es una generalización del conocido Problema del Viajante (TSP). La primera definición aparece en una artículo de George Dantzig y John Ramser en 1959, en donde plantea una aproximación algorítmica y fue aplicado para entregas de gasolina. El problema, requiere la entrega de cierto producto, almacenado en un único local, a los clientes los cuales poseen cierta demanda; el objetivo fundamental es minimizar el coste total de las rutas trazadas. En 1964, Clarke y Wright mejoraron la aproximación de Dantzig y Ramser utilizando una aproximación “greedy” conocido como algoritmo de ahorros.\n",
    "\n",
    "Determinar la solución óptima es un problema NP-hard de optimización combinatoria. Las implementaciones más utilizadas para resolver el problema se basan en heurísticas debido a que para grandes instancias del problema, que como sucede en ejemplos reales, producen buenos resultados. El VRP tiene muchas aplicaciones obvias en industrias.\n",
    "\n",
    "\n",
    "Fuente: [Wikipedia | Vehicule Routing Problem](https://es.wikipedia.org/wiki/Problema_de_enrutamiento_de_veh%C3%ADculos)\n",
    "\n",
    "**El VRP se encarga del servicio de una compañía de entrega, un depósito y un conjunto dado de vehículos, los cuales se mueven en una red de carretera dada, para entregar los productos a un conjunto de clientes. Determina un conjunto de rutas, S, (una ruta para cada vehículo que inicia y termina en el depósito) tal que todas las demandas de los clientes son satisfechas y el coste de la transportación total está minimizado. Esto cuesto puede ser monetario, distancia, tiempo, etc.**\n",
    "\n",
    "La red de carretera puede ser descrita utilizando un grafo donde los arcos son las carreteras y los vértices representan la localización de los clientes y del depósito. Los arcos pueden ser dirigidos o no, debido a costes diferentes en cada dirección o alguna variante del problema. Cada arco tiene un coste asociado.\n",
    "\n",
    "La función objetiva de un VRP puede ser muy diferente dependiendo de la aplicación particular del resultado, unos de los objetivos más comunes son:\n",
    "\n",
    "- Minimizar el coste total del transporte basado en la distancia total recorrida con los vehículos utilizados.\n",
    "- Minimizar el número de vehículos utilizados satisfacer a todos los clientes.\n",
    "- Minimizar la variación entre el tiempo de viaje y la carga del vehículo.\n",
    "- Minimizar las penalizaciones por servicio de baja calidad.\n",
    "\n",
    "### **Formulación Matemática del Problema**\n",
    "\n",
    "- cliente (C): Conjunto de **clientes**\n",
    "- nodos: Conjunto de **nodos**, donde 0 representa del DC |$\\;N= \\{0\\} \\cup C $\n",
    "- arcos: conjunto de todos los **arcos** entre cada nodo |$\\;A= \\{(i,j) \\in N^2 : i \\neq j\\}$\n",
    "- $c_{ij}$ = Costo o distancia entre el nodo i y el nodo j\n",
    "- $q_i$= carga de cada paquete en Cliente.\n",
    "- Q: Capacidad de los vehiculos.\n",
    "\n",
    "\n",
    "#### **variables de decisión**\n",
    "\n",
    "- $x_{i,j}$ igual a 1 cuando se decide viajar en el arco $(i,j) \\in A$; cero de lo contrario\n",
    "- $u_i$ capacidad  $i \\in C$\n",
    "\n",
    "\n",
    "$Min \\; Z= \\; \\displaystyle\\sum_{i\\;\\in\\;A}^{}\\sum_{j\\;\\in\\;A}^{} x_{ij}c_{ij}$ Minimizar los costos totales\n",
    "\n",
    "$\\displaystyle\\sum_{i\\;\\in\\; Cliente}^{}x_{ij}= 1$     $\\; \\; \\forall \\;j \\; \\in \\; Nodos$ Solo visito un nodo a la vez\n",
    "\n",
    "$\\displaystyle\\sum_{j\\;\\in\\; Cliente}^{}x_{ij}= 1$     $\\; \\; \\forall \\;i \\; \\in \\; Nodos$ Cada nodo es solo visitado una vez\n",
    "\n",
    "$\\displaystyle\\sum_{i\\;\\in\\; Cliente}^{}x_{i0}= K$ Cuantas rutas puedo hacer\n",
    "\n",
    "$\\displaystyle\\sum_{j\\;\\in\\; Cliente}^{}x_{0j}= K$ Cuantos camiones tengo\n",
    "\n",
    "$\\displaystyle\\sum_{i\\; \\in\\;S}^{}\\sum_{j\\in\\;S}^{} \\geq r(s)$  $\\; \\forall \\;S \\subseteq \\; C   \\setminus \\{0\\},S \\neq \\phi$\n",
    "\n",
    "Esta última restricción sirve tanto como una restricción de capacidad y de eliminación de Sub Tour. Sin embargo, con está formulación el número de restricciones crece en forma exponencial con el número de nodos. Hay dos formas de resolver este problema: El primero es el utilizar el algoritmo de planos cortantes, la cual no haremos ya que es muy avanzada para este trabajo. La segunda es la formulación MTZ, que consiste en introducir una nueva variable $u=(u_1,....u_n)$ de acumulación. La cual muestra lo que acumula el camión en el recorrido antes de llenarse. Por suerte como es un solo tanque de almacenamiento, se va acumulando sobre la marcha.\n",
    "\n",
    "$Si \\; x_{ij}=1  \\Rightarrow u_{i}+q_{j}=u_{j}$ \n",
    "$ \\; \\; i,j \\in A: i\\neq0, j\\neq0 $\n",
    "\n",
    "$ q_i \\leq u_i \\leq Q \\; \\; i \\in N$\n"
   ]
  },
  {
   "cell_type": "markdown",
   "metadata": {},
   "source": [
    "## Creación de los Datos"
   ]
  },
  {
   "cell_type": "code",
   "execution_count": 1,
   "metadata": {},
   "outputs": [],
   "source": [
    "n=10 # Clientes (tambos)\n",
    "clientes=[x for x in range(1,n+1)]\n",
    "\n",
    "nodos=[0]+clientes #Posición inicial 0 y visita demas nodos \n",
    "Q=15#capacidad total de toda la flota \n",
    "\n",
    "import numpy as np\n",
    "rnd=np.random\n",
    "rnd.seed(0)\n",
    "\n",
    "q={i:rnd.randint(1,10) for i in clientes}"
   ]
  },
  {
   "cell_type": "code",
   "execution_count": 2,
   "metadata": {},
   "outputs": [],
   "source": [
    "# Crear coordenadas \n",
    "rnd.seed(0)\n",
    "loc_x=rnd.rand(len(nodos))*200\n",
    "loc_y=rnd.rand(len(nodos))*100"
   ]
  },
  {
   "cell_type": "code",
   "execution_count": 3,
   "metadata": {},
   "outputs": [
    {
     "data": {
      "image/png": "[encoded data removed]",
      "text/plain": [
       "<Figure size 864x360 with 1 Axes>"
      ]
     },
     "metadata": {
      "needs_background": "light"
     },
     "output_type": "display_data"
    }
   ],
   "source": [
    "import matplotlib.pyplot as plt\n",
    "\n",
    "plt.figure(figsize=(12,5))\n",
    "plt.scatter(loc_x,loc_y,color=\"green\")\n",
    "\n",
    "for i in clientes:\n",
    "    plt.annotate('$q_{%d}=%d$'%(i,q[i]),(loc_x[i]+1,loc_y[i]-0.5))\n",
    "    \n",
    "plt.plot(loc_x[0],loc_y[0],color='red',marker='s')\n",
    "plt.annotate('DC',(loc_x[0]-2,loc_y[0]+2))\n",
    "\n",
    "plt.xlabel(\"Eje X\")\n",
    "plt.ylabel(\"Eje Y\")\n",
    "plt.title(\"Gráfico de Nodos | VRP\")\n",
    "\n",
    "plt.show()"
   ]
  },
  {
   "cell_type": "markdown",
   "metadata": {},
   "source": [
    "### Creando las estructuras de datos"
   ]
  },
  {
   "cell_type": "code",
   "execution_count": 4,
   "metadata": {},
   "outputs": [],
   "source": [
    "arcos={(i,j) for i in nodos for j in nodos if i!=j}"
   ]
  },
  {
   "cell_type": "code",
   "execution_count": 5,
   "metadata": {},
   "outputs": [],
   "source": [
    "distancia={(i,j):np.hypot(loc_x[i]-loc_x[j],loc_y[i]-loc_y[j]) \n",
    "           for i in nodos for j in nodos if i!=j}"
   ]
  },
  {
   "cell_type": "markdown",
   "metadata": {},
   "source": [
    "## Creación y Optimización - CVRP"
   ]
  },
  {
   "cell_type": "code",
   "execution_count": null,
   "metadata": {},
   "outputs": [],
   "source": [
    "#Definición de docplex https://www.youtube.com/watch?v=L957Y5DxCAo\n",
    "#Solo funciona para Python 3.6.X (INVESTIGAR)\n",
    "# $conda create -n python3 python=3.6 anaconda"
   ]
  },
  {
   "cell_type": "code",
   "execution_count": 6,
   "metadata": {},
   "outputs": [
    {
     "name": "stdout",
     "output_type": "stream",
     "text": [
      "Requirement already satisfied: docplex in c:\\users\\jdiaz\\.conda\\envs\\python3\\lib\\site-packages (2.14.186)\n",
      "Requirement already satisfied: requests in c:\\users\\jdiaz\\.conda\\envs\\python3\\lib\\site-packages (from docplex) (2.24.0)\n",
      "Requirement already satisfied: six in c:\\users\\jdiaz\\.conda\\envs\\python3\\lib\\site-packages (from docplex) (1.15.0)\n",
      "Requirement already satisfied: certifi>=2017.4.17 in c:\\users\\jdiaz\\.conda\\envs\\python3\\lib\\site-packages (from requests->docplex) (2020.6.20)\n",
      "Requirement already satisfied: chardet<4,>=3.0.2 in c:\\users\\jdiaz\\.conda\\envs\\python3\\lib\\site-packages (from requests->docplex) (3.0.4)\n",
      "Requirement already satisfied: urllib3!=1.25.0,!=1.25.1,<1.26,>=1.21.1 in c:\\users\\jdiaz\\.conda\\envs\\python3\\lib\\site-packages (from requests->docplex) (1.25.9)\n",
      "Requirement already satisfied: idna<3,>=2.5 in c:\\users\\jdiaz\\.conda\\envs\\python3\\lib\\site-packages (from requests->docplex) (2.10)\n"
     ]
    }
   ],
   "source": [
    "#!pip install docplex"
   ]
  },
  {
   "cell_type": "code",
   "execution_count": 7,
   "metadata": {},
   "outputs": [],
   "source": [
    "from docplex.mp.model import Model\n",
    "mdl=Model('CVRP')"
   ]
  },
  {
   "cell_type": "markdown",
   "metadata": {},
   "source": [
    "#### Creando las variables de decisión"
   ]
  },
  {
   "cell_type": "code",
   "execution_count": 8,
   "metadata": {},
   "outputs": [],
   "source": [
    "x=mdl.binary_var_dict(arcos,name='x') #REVISAR ESTO Y AGREGARLO\n",
    "u=mdl.continuous_var_dict(nodos,ub=Q,name='u')#AGREGAR INFO"
   ]
  },
  {
   "cell_type": "markdown",
   "metadata": {},
   "source": [
    "##### <font color=black> Función Objetivo </font>\n",
    "$Min \\; Z= \\; \\displaystyle\\sum_{i\\;\\in\\;A}^{}\\sum_{j\\;\\in\\;A}^{} x_{ij}c_{ij}$"
   ]
  },
  {
   "cell_type": "code",
   "execution_count": 9,
   "metadata": {},
   "outputs": [],
   "source": [
    "mdl.minimize(mdl.sum(distancia[i,j]*x[i,j] for i,j in arcos))"
   ]
  },
  {
   "cell_type": "markdown",
   "metadata": {},
   "source": [
    "##### <font color=black> Restricciones </font>\n",
    "$\\displaystyle\\sum_{i\\;\\in\\; Clientes}^{}x_{ij}= 1$     $\\; \\; \\forall \\;j \\; \\in \\; Nodos$\n",
    "\n",
    "$\\displaystyle\\sum_{j\\;\\in\\; Clientes}^{}x_{ij}= 1$     $\\; \\; \\forall \\;i \\; \\in \\; Nodos$\n",
    "\n",
    "$Si \\; x_{ij}=1  \\Rightarrow u_{i}+q_{j}=u_{j}$ \n",
    "$ \\; \\; i,j \\in A: i\\neq0, j\\neq0 $\n",
    "\n",
    "$ q_i \\leq u_i \\leq Q \\; \\; i \\in N$"
   ]
  },
  {
   "cell_type": "code",
   "execution_count": 10,
   "metadata": {},
   "outputs": [
    {
     "name": "stdout",
     "output_type": "stream",
     "text": [
      "\n"
     ]
    }
   ],
   "source": [
    "mdl.add_constraints(mdl.sum(x[i,j] for j in nodos if i!=j)==1 for i in clientes)#AGREGAR INFORMACIÓN add_constraints\n",
    "mdl.add_constraints(mdl.sum(x[i,j] for i in nodos if i!=j)==1 for j in clientes)\n",
    "\n",
    "mdl.add_indicator_constraints(mdl.indicator_constraint(x[i,j],u[i]+q[j]==u[j])#AGREGAR INFORMACIÓN add_indicator_constraints\n",
    "                                    for i,j in arcos if i!=0 and j!= 0)\n",
    "\n",
    "mdl.add_constraints(u[i]>=q[i] for i in clientes)\n",
    "print(\"\")"
   ]
  },
  {
   "cell_type": "code",
   "execution_count": 11,
   "metadata": {},
   "outputs": [
    {
     "name": "stdout",
     "output_type": "stream",
     "text": [
      "Version identifier: 12.10.0.0 | 2019-11-27 | 843d4de2ae\n",
      "CPXPARAM_Read_DataCheck                          1\n",
      "CPXPARAM_RandomSeed                              201903125\n",
      "Tried aggregator 2 times.\n",
      "MIP Presolve eliminated 10 rows and 3 columns.\n",
      "MIP Presolve modified 44 coefficients.\n",
      "Aggregator did 44 substitutions.\n",
      "Reduced MIP has 64 rows, 162 columns, and 328 nonzeros.\n",
      "Reduced MIP has 108 binaries, 0 generals, 0 SOSs, and 88 indicators.\n",
      "Presolve time = 0.00 sec. (0.35 ticks)\n",
      "Found incumbent of value 1074.773652 after 0.01 sec. (0.48 ticks)\n",
      "Probing time = 0.00 sec. (0.32 ticks)\n",
      "Tried aggregator 1 time.\n",
      "Detecting symmetries...\n",
      "Reduced MIP has 64 rows, 162 columns, and 328 nonzeros.\n",
      "Reduced MIP has 108 binaries, 0 generals, 0 SOSs, and 88 indicators.\n",
      "Presolve time = 0.00 sec. (0.23 ticks)\n",
      "Probing time = 0.00 sec. (0.31 ticks)\n",
      "Clique table members: 64.\n",
      "MIP emphasis: balance optimality and feasibility.\n",
      "MIP search method: dynamic search.\n",
      "Parallel mode: deterministic, using up to 8 threads.\n",
      "Root relaxation solution time = 0.00 sec. (0.13 ticks)\n",
      "\n",
      "        Nodes                                         Cuts/\n",
      "   Node  Left     Objective  IInf  Best Integer    Best Bound    ItCnt     Gap\n",
      "\n",
      "*     0+    0                         1074.7737        0.0000           100.00%\n",
      "      0     0      270.3676    10     1074.7737      270.3676       17   74.84%\n",
      "      0     0      307.7459    10     1074.7737      Cuts: 26       28   71.37%\n",
      "      0     0      307.7459    10     1074.7737      Cuts: 33       39   71.37%\n",
      "      0     0      307.7459    10     1074.7737      Cuts: 28       42   71.37%\n",
      "*     0+    0                          713.8941      307.7459            56.89%\n",
      "*     0+    0                          644.8042      307.7459            52.27%\n",
      "Detecting symmetries...\n",
      "      0     2      307.7459    10      644.8042      307.7459       42   52.27%\n",
      "Elapsed time = 0.08 sec. (5.45 ticks, tree = 0.02 MB, solutions = 3)\n",
      "*   565   150      integral     0      635.4363      307.7459      946   51.57%\n",
      "*   582   172      integral     0      635.1087      307.7459     1215   51.54%\n",
      "\n",
      "Cover cuts applied:  43\n",
      "Implied bound cuts applied:  165\n",
      "\n",
      "Root node processing (before b&c):\n",
      "  Real time             =    0.08 sec. (5.42 ticks)\n",
      "Parallel b&c, 8 threads:\n",
      "  Real time             =    0.53 sec. (114.84 ticks)\n",
      "  Sync time (average)   =    0.19 sec.\n",
      "  Wait time (average)   =    0.00 sec.\n",
      "                          ------------\n",
      "Total (root+branch&cut) =    0.61 sec. (120.26 ticks)\n"
     ]
    }
   ],
   "source": [
    "solucion=mdl.solve(log_output=True)#Solución revisar y agregar info"
   ]
  },
  {
   "cell_type": "code",
   "execution_count": 12,
   "metadata": {},
   "outputs": [
    {
     "data": {
      "text/plain": [
       "<JobSolveStatus.OPTIMAL_SOLUTION: 2>"
      ]
     },
     "execution_count": 12,
     "metadata": {},
     "output_type": "execute_result"
    }
   ],
   "source": [
    "mdl.get_solve_status()"
   ]
  },
  {
   "cell_type": "code",
   "execution_count": 13,
   "metadata": {},
   "outputs": [
    {
     "name": "stdout",
     "output_type": "stream",
     "text": [
      "solution for: CVRP\n",
      "objective: 635.109\n",
      "x_6_9 = 1\n",
      "x_4_0 = 1\n",
      "x_0_1 = 1\n",
      "x_7_8 = 1\n",
      "x_9_4 = 1\n",
      "x_0_5 = 1\n",
      "x_0_2 = 1\n",
      "x_3_0 = 1\n",
      "x_8_0 = 1\n",
      "x_10_0 = 1\n",
      "x_5_3 = 1\n",
      "x_0_6 = 1\n",
      "x_1_7 = 1\n",
      "x_2_10 = 1\n",
      "u_1 = 6.000\n",
      "u_2 = 1.000\n",
      "u_3 = 15.000\n",
      "u_4 = 15.000\n",
      "u_5 = 11.000\n",
      "u_6 = 6.000\n",
      "u_7 = 12.000\n",
      "u_8 = 15.000\n",
      "u_9 = 11.000\n",
      "u_10 = 9.000\n"
     ]
    }
   ],
   "source": [
    "solucion.display()"
   ]
  },
  {
   "cell_type": "code",
   "execution_count": 14,
   "metadata": {},
   "outputs": [
    {
     "data": {
      "text/plain": [
       "[(6, 9),\n",
       " (4, 0),\n",
       " (0, 1),\n",
       " (7, 8),\n",
       " (9, 4),\n",
       " (0, 5),\n",
       " (0, 2),\n",
       " (3, 0),\n",
       " (8, 0),\n",
       " (10, 0),\n",
       " (5, 3),\n",
       " (0, 6),\n",
       " (1, 7),\n",
       " (2, 10)]"
      ]
     },
     "execution_count": 14,
     "metadata": {},
     "output_type": "execute_result"
    }
   ],
   "source": [
    "arcos_activos=[k for k in arcos if x[k].solution_value>0.9]\n",
    "arcos_activos"
   ]
  },
  {
   "cell_type": "code",
   "execution_count": 15,
   "metadata": {},
   "outputs": [
    {
     "data": {
      "image/png": "[encoded data removed]",
      "text/plain": [
       "<Figure size 864x360 with 1 Axes>"
      ]
     },
     "metadata": {
      "needs_background": "light"
     },
     "output_type": "display_data"
    }
   ],
   "source": [
    "plt.figure(figsize=(12,5))\n",
    "plt.scatter(loc_x,loc_y,color=\"green\")\n",
    "\n",
    "for i in clientes:\n",
    "    plt.annotate('$q_{%d}=%d$'%(i,q[i]),(loc_x[i]+1,loc_y[i]-0.5))\n",
    "    \n",
    "plt.plot(loc_x[0],loc_y[0],color='red',marker='s')\n",
    "plt.annotate('DC',(loc_x[0]-2,loc_y[0]+2))\n",
    "\n",
    "for i,j in arcos_activos:\n",
    "    plt.plot([loc_x[i],loc_x[j]],[loc_y[i],loc_y[j]],color=\"blue\",alpha=0.3)\n",
    "\n",
    "plt.xlabel(\"Eje X\")\n",
    "plt.ylabel(\"Eje Y\")\n",
    "plt.title(\"Gráfico de Nodos | VRP\")\n",
    "\n",
    "plt.show()"
   ]
  }
 ],
 "metadata": {
  "kernelspec": {
   "display_name": "Python 3",
   "language": "python",
   "name": "python3"
  },
  "language_info": {
   "codemirror_mode": {
    "name": "ipython",
    "version": 3
   },
   "file_extension": ".py",
   "mimetype": "text/x-python",
   "name": "python",
   "nbconvert_exporter": "python",
   "pygments_lexer": "ipython3",
   "version": "3.6.10"
  }
 },
 "nbformat": 4,
 "nbformat_minor": 2
}
