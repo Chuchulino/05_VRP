{
 "cells": [
  {
   "cell_type": "markdown",
   "metadata": {},
   "source": [
    "# Optimizador de rutas de camiones Saputo"
   ]
  },
  {
   "cell_type": "code",
   "execution_count": 1,
   "metadata": {},
   "outputs": [],
   "source": [
    "import csv\n",
    "import math\n",
    "import pandas as pd\n",
    "from sklearn.cluster import KMeans\n",
    "import numpy as np"
   ]
  },
  {
   "cell_type": "markdown",
   "metadata": {},
   "source": [
    "## Constantes:"
   ]
  },
  {
   "cell_type": "code",
   "execution_count": 2,
   "metadata": {},
   "outputs": [],
   "source": [
    "MAX_DELIVERIES = 10 #Cantidad de camiones \n",
    "DRIVE_SPEED_KMPH = 20 #Velocidad promedio\n",
    "PRICE_PER_TRUCK = 100 #Precio del día \n",
    "PRICE_PER_KM = 0.061 #precio EUR\n",
    "MAX_TIME_PER_TRUCK = 10 #horas\n",
    "TOTAL_CLUSTERS = 35 #Modificado inicialmente eran 51"
   ]
  },
  {
   "cell_type": "code",
   "execution_count": 3,
   "metadata": {},
   "outputs": [],
   "source": [
    "def distance(x1, y1, x2, y2):\n",
    "    return math.sqrt((x1 - x2)**2 + (y1 - y2)**2)"
   ]
  },
  {
   "cell_type": "markdown",
   "metadata": {},
   "source": [
    "## Objetos en el Sistema"
   ]
  },
  {
   "cell_type": "code",
   "execution_count": 4,
   "metadata": {},
   "outputs": [],
   "source": [
    "class Truck:\n",
    "    id = 0\n",
    "\n",
    "    def __init__(self,orders):\n",
    "        self.capacity_left = MAX_DELIVERIES\n",
    "        self.x = 0\n",
    "        self.y = 0\n",
    "        self.current_time = 0\n",
    "        self.id = Truck.id\n",
    "        self.deliveries = []  # [truck_id, order_id, seq_no]\n",
    "        self.current_order = 1\n",
    "        self.delivered = False\n",
    "        self.orders = orders\n",
    "        Truck.id += 1\n",
    "\n",
    "    def can_deliver_order(self, order):\n",
    "        \"\"\"\n",
    "        Comprueba si el camión puede entregar el pedido y llegar al depósito a tiempo.\n",
    "        \"\"\"\n",
    "        if self.capacity_left == 0:\n",
    "            return False\n",
    "\n",
    "        time_to_reach_order = distance(self.x, self.y, order.x, order.y) / DRIVE_SPEED_KMPH\n",
    "\n",
    "        if self.current_time + time_to_reach_order >= order.end_time:\n",
    "            return False\n",
    "\n",
    "        time_to_reach_depot = distance(order.x, order.y, 0, 0) / DRIVE_SPEED_KMPH\n",
    "\n",
    "        if (\n",
    "            max(self.current_time + time_to_reach_order, order.start_time)\n",
    "                + time_to_reach_depot > MAX_TIME_PER_TRUCK\n",
    "        ):\n",
    "            return False\n",
    "\n",
    "        print(\"True\")\n",
    "        return True\n",
    "\n",
    "    def deliver_order(self, order):\n",
    "        dist = distance(self.x, self.y, order.x, order.y)\n",
    "\n",
    "        # Actualiza current_time\n",
    "        self.current_time = max(\n",
    "            self.current_time + (dist / DRIVE_SPEED_KMPH),\n",
    "            order.start_time\n",
    "        )\n",
    "\n",
    "        # Actualiza capacity\n",
    "        self.capacity_left -= 1\n",
    "\n",
    "        # Actualiza ubicación\n",
    "        self.x = order.x\n",
    "        self.y = order.y\n",
    "\n",
    "        # agrega orden a las entregas\n",
    "        self.deliveries.append([self.id, order.id, self.current_order,self.current_time])\n",
    "        self.current_order += 1\n",
    "\n",
    "    def deliver(self):\n",
    "        self.delivered = True\n",
    "        new_route = self.optimise_route()\n",
    "        new_route = list(map(lambda x: x[:-1], new_route))\n",
    "        \n",
    "        return new_route[::]\n",
    "    \n",
    "    # optimización local de la ruta a través de cluster\n",
    "    def optimise_route(self):\n",
    "        def cost_btwn_orders(o1,o2):\n",
    "            loc1 = (o1.x,o2.y)\n",
    "            loc2 = (o2.x,o2.y)\n",
    "            return distance(loc1[0],loc1[1],loc2[0],loc2[1])   \n",
    "        \n",
    "        del_copy = self.deliveries[::]\n",
    "        for i in range(len(del_copy)-3):\n",
    "            # vemos si el camino v1->v2->v3->v4 puede ser optimizado a v1->v3->v2->v4\n",
    "            v1, v2, v3, v4 = self.orders[int(del_copy[i][1])], self.orders[int(del_copy[i+1][1])], self.orders[int(del_copy[i+2][1])], self.orders[int(del_copy[i+3][1])]\n",
    "            if(cost_btwn_orders(v1,v2) + cost_btwn_orders(v2,v3)+cost_btwn_orders(v3,v4) >\n",
    "            cost_btwn_orders(v1,v3) + cost_btwn_orders(v3,v2)+cost_btwn_orders(v2,v4)):\n",
    "                # comprueba la limitación de tiempo con un nuevo pedido\n",
    "                time_at_3 = max(del_copy[i][3] + (cost_btwn_orders(v1,v3) / DRIVE_SPEED_KMPH),v3.start_time)\n",
    "                time_at_2 = max(time_at_3 + (cost_btwn_orders(v3,v2) / DRIVE_SPEED_KMPH), v2.start_time)\n",
    "                time_at_4 = max(time_at_2 + (cost_btwn_orders(v2,v4) / DRIVE_SPEED_KMPH), v4.start_time)\n",
    "                \n",
    "                if(time_at_3 < v3.end_time and time_at_2 < v2.end_time and time_at_4 < v4.end_time):\n",
    "                    if i+3 == len(del_copy)-1:\n",
    "                        if time_at_4 + (distance(v4.x,v4.y,0.0,0.0) / DRIVE_SPEED_KMPH) > 10:\n",
    "                            break\n",
    "                    # las limitaciones de tiempo se cumplieron, ahora intercambien.\n",
    "                    del_copy[i+1][2],del_copy[i+2][2] = del_copy[i+2][2],del_copy[i+1][2]\n",
    "                    del_copy[i+2][3] = time_at_3\n",
    "                    del_copy[i+1][3] = time_at_2\n",
    "                    del_copy[i+3][3] = time_at_4\n",
    "                    \n",
    "                    del_copy[i+1],del_copy[i+2]=del_copy[i+2],del_copy[i+1]\n",
    "        return del_copy\n",
    "                \n",
    "            \n",
    "    def has_delivered(self):\n",
    "        return self.delivered"
   ]
  },
  {
   "cell_type": "code",
   "execution_count": 5,
   "metadata": {},
   "outputs": [],
   "source": [
    "class Order:\n",
    "    def __init__(self, id, x, y, start_time):\n",
    "        self.id = id\n",
    "        self.x = x\n",
    "        self.y = y\n",
    "        self.start_time = start_time\n",
    "        self.end_time = self.start_time + 1"
   ]
  },
  {
   "cell_type": "markdown",
   "metadata": {},
   "source": [
    "## Algoritmo de ruteo:"
   ]
  },
  {
   "cell_type": "code",
   "execution_count": 6,
   "metadata": {},
   "outputs": [],
   "source": [
    "def clustered(orders, kmeans): #usamos kmeans como clasificador, TENER UNA VARIABLE MAS CON TIEMPO\n",
    "    clusters = {i: np.where(kmeans.labels_ == i)[0] for i in range(kmeans.n_clusters)}\n",
    "    deliveries = []\n",
    "\n",
    "    current_truck = Truck(orders[::])\n",
    "\n",
    "    # bucle sobre cada cluster\n",
    "    for cluster in clusters.values():\n",
    "        curr_len = len(deliveries)\n",
    "\n",
    "        orders_in_cluster = [orders[idx] for idx in cluster]\n",
    "\n",
    "        for order in sorted(orders_in_cluster, key=lambda x: x.end_time):\n",
    "            if current_truck.can_deliver_order(order):\n",
    "                current_truck.deliver_order(order)\n",
    "            else:\n",
    "                deliveries.extend(current_truck.deliver())\n",
    "                current_truck = Truck(orders[::])\n",
    "                current_truck.deliver_order(order)\n",
    "\n",
    "    if not current_truck.has_delivered():\n",
    "        deliveries.extend(current_truck.deliver())\n",
    "\n",
    "    return deliveries"
   ]
  },
  {
   "cell_type": "markdown",
   "metadata": {},
   "source": [
    "### Encontrar clusters, ejecutar \"algo\", formatear la salida"
   ]
  },
  {
   "cell_type": "code",
   "execution_count": 7,
   "metadata": {},
   "outputs": [],
   "source": [
    "def answer():\n",
    "    df = pd.read_csv(\"C:/Users/jdiaz/Downloads/orders1.csv\")\n",
    "\n",
    "    orders_to_cluster = []\n",
    "    orders = []\n",
    "\n",
    "    for _, row in df.iterrows():\n",
    "        orders_to_cluster.append([row[\"x\"], row[\"y\"]])\n",
    "        order = Order(\n",
    "            row[\"order_id\"], row[\"x\"], row[\"y\"], row[\"time_window_start\"]\n",
    "        )\n",
    "        orders.append(order)\n",
    "\n",
    "    kmeans = KMeans(n_clusters=TOTAL_CLUSTERS, random_state=0)\n",
    "    kmeans.fit(orders_to_cluster)\n",
    "\n",
    "    #print(len(orders))\n",
    "\n",
    "    # ans_list = bruteforce(orders)\n",
    "    ans_list = clustered(orders, kmeans)\n",
    "\n",
    "    #print(len(ans_list))\n",
    "\n",
    "    with open(\"answer.txt\", 'w', newline='') as csvfile:\n",
    "        writer = csv.writer(csvfile)\n",
    "        writer.writerow([\"truck_id\", \"order_id\", \"sequence_number\"])\n",
    "        for row in ans_list:\n",
    "            writer.writerow(row)"
   ]
  },
  {
   "cell_type": "markdown",
   "metadata": {},
   "source": [
    "## Versión adaptada del validador para comprobar \"algo\":"
   ]
  },
  {
   "cell_type": "code",
   "execution_count": 8,
   "metadata": {},
   "outputs": [],
   "source": [
    "import matplotlib\n",
    "matplotlib.rcParams['figure.figsize'] = (20,40)\n",
    "import matplotlib.pyplot as plt\n",
    "%matplotlib inline  \n",
    "\n",
    "\"\"\"\n",
    "\"\"\"\n",
    "\n",
    "import sys\n",
    "import math\n",
    "import pandas as pd\n",
    "\n",
    "\n",
    "MAX_DELIVERIES = 10\n",
    "DRIVE_SPEED_KMPH = 20\n",
    "PRICE_PER_TRUCK = 100\n",
    "PRICE_PER_KM = 0.061\n",
    "\n",
    "def distance1(pos1, pos2):\n",
    "    \"Encuentra la distancia euclidiana entre dos, dos tuplas dimensionales\"\n",
    "    diff_1 = pos1[0] - pos2[0]\n",
    "    diff_2 = pos1[1] - pos2[1]\n",
    "    return math.sqrt(diff_1*diff_1 + diff_2*diff_2)\n",
    "\n",
    "\n",
    "def is_valid(data_frame):\n",
    "    \"Compruebe si la ruta prevista para un camión es legal. Imprime cualquier problema para evitar...\"\n",
    "    epsilon = 0.00001\n",
    "    check = data_frame.copy()\n",
    "    check.sort_values(\"sequence_number\", inplace=True)\n",
    "    location = (0, 0)\n",
    "    time = 0\n",
    "    valid = []\n",
    "    # Revisa que todas las entregas hagan sus ventanas de tiempo\n",
    "    row = \"\"\n",
    "    for _, row in check.iterrows():\n",
    "        new_location = (row.x, row.y)\n",
    "        travel_time_hours = distance1(location, new_location) / DRIVE_SPEED_KMPH\n",
    "        time = time + travel_time_hours\n",
    "        if time > row.time_window_start+1:\n",
    "            sys.stderr.write(\"Error: Truck \" + str(row.truck_id)\n",
    "                             + \" delivers to \" + str(row.order_id)\n",
    "                             + \" late at \" + str(time) + \"\\n\")\n",
    "            valid.append(False)\n",
    "        else:\n",
    "            valid.append(True)\n",
    "        if time - epsilon < row.time_window_start:\n",
    "            time = row.time_window_start\n",
    "        location = new_location\n",
    "\n",
    "    # Revisa que la camioneta regrese al depósito a tiempo\n",
    "    new_location = (0, 0)\n",
    "    travel_time_hours = distance1(location, new_location) / DRIVE_SPEED_KMPH\n",
    "    time = time + travel_time_hours\n",
    "    if time - epsilon > 10:\n",
    "        sys.stderr.write(\"Error: Truck \" + str(row.truck_id)\n",
    "                         + \" returns to the depot at \" + str(time) + \"\\n\")\n",
    "        valid = [False] * len(check)\n",
    "\n",
    "    # Revisa que la furgoneta haga como mucho 10 entregas\n",
    "    if len(check) > MAX_DELIVERIES:\n",
    "        sys.stderr.write(\"Error: Truck \" + str(row.truck_id)\n",
    "                         + \" delivers to \" + str(len(check)) + \" orders.\\n\")\n",
    "        valid = [False] * len(check)\n",
    "    return valid\n",
    "\n",
    "\n",
    "def route_distance(data_frame):\n",
    "    \"\"\"Check if the route provided for a truck is legal.\n",
    "       Print any problems to stderr\"\"\"\n",
    "    check = data_frame.copy()\n",
    "    check.sort_values(\"sequence_number\", inplace=True)\n",
    "    location = (0, 0)\n",
    "    total_distance = 0\n",
    "    # Suma las distancias a la última orden\n",
    "    for _, row in check.iterrows():\n",
    "        new_location = (row.x, row.y)\n",
    "        total_distance += distance1(location, new_location)\n",
    "        location = new_location\n",
    "\n",
    "    # Agrega distancia al depósito\n",
    "    new_location = (0, 0)\n",
    "    total_distance += distance1(location, new_location)\n",
    "\n",
    "    return total_distance\n",
    "\n",
    "\n",
    "def check(file_name):\n",
    "    \" Encuentra la puntuación para la solución y reporta cualquier problema\"\n",
    "    # Las Columnas son: truck_id, order_id, sequence_number\n",
    "    data = pd.read_csv(file_name)\n",
    "    data.columns = [column.strip() for column in data.columns.tolist()]\n",
    "    # Las Columnas son: order_id, x, y, time_window_start\n",
    "    orders = pd.read_csv(\"C:/Users/jdiaz/Downloads/orders1.csv\")\n",
    "    orders.columns = [column.strip() for column in orders.columns.tolist()]\n",
    "    data = data.merge(orders, on=\"order_id\")\n",
    "\n",
    "    # Verifique las órdenes únicas correctas...\n",
    "    specified_orders = data.order_id.nunique()\n",
    "    if specified_orders != len(orders):\n",
    "        sys.stderr.write(\"Error: \" + str(specified_orders) + \" specified. \"\n",
    "                         + str(len(orders)) + \" orders required.\\n\")\n",
    "        exit(1)\n",
    "\n",
    "    # Revise las órdenes duplicadas especificadas\n",
    "    duplicates = data.order_id.duplicated()\n",
    "    if sum(duplicates):\n",
    "        msg = \"Error:la(s) siguiente(s) orden(es) tiene(n) múltiples entregas:\\n\"\n",
    "        duplicated_orders = data[duplicates].groupby(\"order_id\")\n",
    "        duplicated_orders = duplicated_orders.mean().reset_index().order_id\n",
    "        duplicated_orders = duplicated_orders.values.tolist()\n",
    "        sys.stderr.write(msg + str(duplicated_orders) + \"\\n\")\n",
    "        exit(1)\n",
    "\n",
    "     # Verificar la validez de las rutas\n",
    "    valid = data.groupby(\"truck_id\").apply(is_valid).tolist()\n",
    "    valid = [x for sublist in valid for x in sublist]\n",
    "    total_distance = sum(data.groupby(\"truck_id\").apply(route_distance))\n",
    "\n",
    "    if not sum(valid) == len(data):\n",
    "        print(\"Invalid solution\")\n",
    "        exit(1)\n",
    "    else:\n",
    "        vans = data.truck_id.nunique()\n",
    "        #print(\"Correct solution found with \"\n",
    "             # + str(vans) + \" trucks.\")\n",
    "        #print(\"Total distance travelled: {0:.2f}\".format(total_distance)\n",
    "             # + \" km\")\n",
    "        cost = vans*100 + total_distance*0.061\n",
    "        #print(\"Total cost: £{0:.2f}\".format(cost))\n",
    "        return (vans,total_distance,cost)"
   ]
  },
  {
   "cell_type": "code",
   "execution_count": 9,
   "metadata": {},
   "outputs": [],
   "source": [
    "# Ejecuta \"algo\", y obtiene los resultados de la evaluación\n",
    "def pipeline():\n",
    "    answer()\n",
    "    results = check(\"answer.txt\")\n",
    "    return results"
   ]
  },
  {
   "cell_type": "code",
   "execution_count": 10,
   "metadata": {},
   "outputs": [],
   "source": [
    "# Optimización del número de clusters...\n",
    "\n",
    "# cs = []\n",
    "# costs = []\n",
    "# for i in range(1,200,2):\n",
    "#    TOTAL_CLUSTERS = i\n",
    "#    cost = pipeline()[2]\n",
    "#    cs += [i]\n",
    "#    costs += [cost]\n",
    "# plt.plot(cs,costs)"
   ]
  },
  {
   "cell_type": "code",
   "execution_count": 11,
   "metadata": {},
   "outputs": [
    {
     "name": "stdout",
     "output_type": "stream",
     "text": [
      "True\n",
      "True\n",
      "True\n",
      "True\n",
      "True\n",
      "True\n",
      "True\n",
      "True\n",
      "True\n",
      "True\n",
      "True\n",
      "True\n"
     ]
    }
   ],
   "source": [
    "TOTAL_CLUSTERS = 35 #opcional \n",
    "results = pipeline()"
   ]
  },
  {
   "cell_type": "code",
   "execution_count": 12,
   "metadata": {},
   "outputs": [
    {
     "data": {
      "text/plain": [
       "(24, 2311.9588717108763, 2541.0294911743636)"
      ]
     },
     "execution_count": 12,
     "metadata": {},
     "output_type": "execute_result"
    }
   ],
   "source": [
    "results # evaluamos los resultados"
   ]
  },
  {
   "cell_type": "markdown",
   "metadata": {},
   "source": [
    "## Visualización de la Ruta:"
   ]
  },
  {
   "cell_type": "code",
   "execution_count": 13,
   "metadata": {},
   "outputs": [
    {
     "data": {
      "image/png": "[encoded data removed]",
      "text/plain": [
       "<Figure size 432x288 with 1 Axes>"
      ]
     },
     "metadata": {
      "needs_background": "light"
     },
     "output_type": "display_data"
    }
   ],
   "source": [
    "orders = []\n",
    "with open(\"C:/Users/jdiaz/Downloads/orders1.csv\") as f:\n",
    "    count = 0\n",
    "    for line in f:\n",
    "        count += 1\n",
    "        if count == 1:\n",
    "            continue\n",
    "        orders+=[ list(map(lambda x:float(x), line.replace('\\n','').split(',')) )]\n",
    "#print(orders)\n",
    "journeys = {}\n",
    "count = 0\n",
    "with open('answer.txt') as f:\n",
    "    for line in f:\n",
    "        count += 1\n",
    "        if count == 1:\n",
    "            continue\n",
    "        data = line.split(',')\n",
    "        truck = data[0]\n",
    "        order = int(float(data[1]))\n",
    "        order_x = orders[order][1]\n",
    "        order_y = orders[order][2]\n",
    "        #print (order_x,order_y)\n",
    "        if truck not in journeys.keys():\n",
    "            journeys[truck] = [((0.0,0.0),(order_x,order_y))]\n",
    "        else:\n",
    "            last_loc = journeys[truck][-1][1]\n",
    "            journeys[truck] += [(last_loc,(order_x,order_y))]\n",
    "for truck in journeys.keys():\n",
    "    last_loc = journeys[truck][-1][1]\n",
    "    journeys[truck] += [(last_loc,(0.0,0.0))]\n",
    "\n",
    "for truck in journeys.keys():\n",
    "    xs = [0.0]+list([x[1][0] for x in journeys[truck]])\n",
    "    ys = [0.0]+list([x[1][1] for x in journeys[truck]])\n",
    "\n",
    "    plt.plot(xs,ys,'-o')\n",
    "matplotlib.rcParams['figure.figsize'] = (16,20)\n",
    "#plt.legend(loc=4)\n",
    "plt.show()"
   ]
  },
  {
   "cell_type": "code",
   "execution_count": null,
   "metadata": {},
   "outputs": [],
   "source": []
  }
 ],
 "metadata": {
  "kernelspec": {
   "display_name": "Python 3",
   "language": "python",
   "name": "python3"
  },
  "language_info": {
   "codemirror_mode": {
    "name": "ipython",
    "version": 3
   },
   "file_extension": ".py",
   "mimetype": "text/x-python",
   "name": "python",
   "nbconvert_exporter": "python",
   "pygments_lexer": "ipython3",
   "version": "3.6.10"
  }
 },
 "nbformat": 4,
 "nbformat_minor": 2
}
